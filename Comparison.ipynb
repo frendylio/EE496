{
 "cells": [
  {
   "cell_type": "code",
   "execution_count": 1,
   "metadata": {},
   "outputs": [
    {
     "name": "stderr",
     "output_type": "stream",
     "text": [
      "Using TensorFlow backend.\n"
     ]
    }
   ],
   "source": [
    "###############\n",
    "# Import for old Way Keras\n",
    "###############\n",
    "\n",
    "import matplotlib.pyplot as plt\n",
    "import numpy as np\n",
    "\n",
    "#import mnist\n",
    "from keras.datasets import mnist\n",
    "\n",
    "import scipy.misc\n",
    "import random as rand\n",
    "from sklearn import datasets, linear_model\n",
    "from sklearn.metrics import confusion_matrix\n",
    "from sklearn.metrics import roc_curve, roc_auc_score"
   ]
  },
  {
   "cell_type": "code",
   "execution_count": 2,
   "metadata": {},
   "outputs": [],
   "source": [
    "################\n",
    "# Get Data\n",
    "###############\n",
    "(train_images, train_labels), (test_images, test_labels) = mnist.load_data()\n",
    "\n",
    "\n",
    "# Short hand for functions\n",
    "regr = linear_model.LinearRegression()"
   ]
  },
  {
   "cell_type": "code",
   "execution_count": 3,
   "metadata": {},
   "outputs": [],
   "source": [
    "#####################\n",
    "# Reshape images to be a 2D array.\n",
    "#####################\n",
    "train = train_images.reshape(60000,28*28)\n",
    "\n",
    "test = test_images.reshape(10000,28*28)"
   ]
  },
  {
   "cell_type": "code",
   "execution_count": 4,
   "metadata": {},
   "outputs": [
    {
     "name": "stdout",
     "output_type": "stream",
     "text": [
      "################# For Image 3 #################\n",
      "[[8947   43]\n",
      " [ 356  654]]\n"
     ]
    },
    {
     "data": {
      "image/png": "[encoded data removed]",
      "text/plain": [
       "<Figure size 432x288 with 1 Axes>"
      ]
     },
     "metadata": {
      "needs_background": "light"
     },
     "output_type": "display_data"
    },
    {
     "name": "stdout",
     "output_type": "stream",
     "text": [
      "# of thresholds: 557\n",
      "area under roc curve: 0.9738499322679767\n"
     ]
    }
   ],
   "source": [
    "################\n",
    "# For 3\n",
    "################\n",
    "print('################# For Image 3 #################')\n",
    "target = np.where(train_labels == 3,1,-1)\n",
    "\n",
    "## regr = linear_model.LinearRegression() #its repetative to do this twice, but must use once in code\n",
    "regr.fit(train, target)\n",
    "predict_3 = regr.predict(test)\n",
    "\n",
    "predict_labels = np.where(predict_3 > 0, 1, -1)\n",
    "test_new = np.where(test_labels == 3, 1, -1)\n",
    "cm = confusion_matrix(test_new,predict_labels)\n",
    "print(cm)\n",
    "\n",
    "FPR, TPR, thresholds = roc_curve(test_new, predict_3)\n",
    "plt.plot(FPR,TPR)\n",
    "plt.show()\n",
    "print(\"# of thresholds:\",len(thresholds))\n",
    "area_under_curve = roc_auc_score(test_new, predict_3)\n",
    "print(\"area under roc curve:\",area_under_curve)"
   ]
  },
  {
   "cell_type": "code",
   "execution_count": 5,
   "metadata": {},
   "outputs": [],
   "source": [
    "#################\n",
    "## New MNIST KERAS\n",
    "#################\n",
    "\n",
    "##############\n",
    "# keras imports for the dataset and building our neural network\n",
    "##############\n",
    "from keras.models import Sequential, load_model\n",
    "from keras.layers.core import Dense, Dropout, Activation\n",
    "from keras.utils import np_utils\n",
    "##############\n",
    "\n",
    "# let's keep our keras backend tensorflow quiet\n",
    "##############\n",
    "import os\n",
    "# Basically we want to control the log message output of our cells.\n",
    "os.environ['TF_CPP_MIN_LOG_LEVEL']='3' \n",
    "#############\n"
   ]
  },
  {
   "cell_type": "code",
   "execution_count": 6,
   "metadata": {},
   "outputs": [],
   "source": [
    "# building a linear stack of layers with the sequential model\n",
    "model = Sequential()\n",
    "model.add(Dense(1, input_shape=(784,)))\n",
    "model.add(Activation('linear'))                            \n"
   ]
  },
  {
   "cell_type": "code",
   "execution_count": 8,
   "metadata": {},
   "outputs": [],
   "source": [
    "# compiling the sequential model\n",
    "from keras.optimizers import SGD\n",
    "import keras.losses as loss\n",
    "\n",
    "model.compile(loss=loss.mean_squared_error, optimizer='sgd')"
   ]
  },
  {
   "cell_type": "code",
   "execution_count": 10,
   "metadata": {},
   "outputs": [
    {
     "name": "stdout",
     "output_type": "stream",
     "text": [
      "Epoch 1/20\n",
      "60000/60000 [==============================] - 1s 14us/step - loss: nan\n",
      "Epoch 2/20\n",
      "60000/60000 [==============================] - 1s 13us/step - loss: nan\n",
      "Epoch 3/20\n",
      "60000/60000 [==============================] - 1s 13us/step - loss: nan\n",
      "Epoch 4/20\n",
      "60000/60000 [==============================] - 1s 14us/step - loss: nan\n",
      "Epoch 5/20\n",
      "60000/60000 [==============================] - 1s 13us/step - loss: nan\n",
      "Epoch 6/20\n",
      "60000/60000 [==============================] - 1s 14us/step - loss: nan\n",
      "Epoch 7/20\n",
      "60000/60000 [==============================] - 1s 16us/step - loss: nan\n",
      "Epoch 8/20\n",
      "60000/60000 [==============================] - 1s 16us/step - loss: nan\n",
      "Epoch 9/20\n",
      "60000/60000 [==============================] - 1s 17us/step - loss: nan\n",
      "Epoch 10/20\n",
      "60000/60000 [==============================] - 1s 18us/step - loss: nan\n",
      "Epoch 11/20\n",
      "60000/60000 [==============================] - 1s 15us/step - loss: nan\n",
      "Epoch 12/20\n",
      "60000/60000 [==============================] - 1s 13us/step - loss: nan\n",
      "Epoch 13/20\n",
      "60000/60000 [==============================] - 1s 13us/step - loss: nan\n",
      "Epoch 14/20\n",
      "60000/60000 [==============================] - 1s 13us/step - loss: nan\n",
      "Epoch 15/20\n",
      "60000/60000 [==============================] - 1s 14us/step - loss: nan\n",
      "Epoch 16/20\n",
      "60000/60000 [==============================] - 1s 16us/step - loss: nan\n",
      "Epoch 17/20\n",
      "60000/60000 [==============================] - 1s 15us/step - loss: nan\n",
      "Epoch 18/20\n",
      "60000/60000 [==============================] - 1s 16us/step - loss: nan\n",
      "Epoch 19/20\n",
      "60000/60000 [==============================] - 1s 15us/step - loss: nan\n",
      "Epoch 20/20\n",
      "60000/60000 [==============================] - 1s 15us/step - loss: nan\n",
      "Saved trained model at Test.h5 \n"
     ]
    }
   ],
   "source": [
    "target = np.where(train_labels == 3,1,-1)\n",
    "\n",
    "train = train_images.reshape(60000,28*28)/255\n",
    "\n",
    "# training the model and saving metrics in history\n",
    "history = model.fit(train, target,\n",
    "          batch_size=128, epochs=20)\n",
    "#### Validation - , finding accuracy from your testing data.\n",
    "#### NP.WHERE \n",
    "#,\n",
    "          #validation_data=(X_test, Y_test))\n",
    "\n",
    "# saving the model\n",
    "save_dir = \"\"\n",
    "model_name = 'Test.h5'\n",
    "model_path = os.path.join(save_dir, model_name)\n",
    "model.save(model_path)\n",
    "print('Saved trained model at %s ' % model_path)"
   ]
  },
  {
   "cell_type": "code",
   "execution_count": null,
   "metadata": {},
   "outputs": [],
   "source": [
    "# plotting the metrics\n",
    "fig = plt.figure()\n",
    "plt.subplot(2,1,1)\n",
    "plt.plot(history.history['accuracy'])\n",
    "plt.title('model accuracy')\n",
    "plt.ylabel('accuracy')\n",
    "plt.xlabel('epoch')\n",
    "plt.legend(['train', 'test'], loc='lower right')\n",
    "\n",
    "plt.subplot(2,1,2)\n",
    "plt.plot(history.history['loss'])\n",
    "plt.title('model loss')\n",
    "plt.ylabel('loss')\n",
    "plt.xlabel('epoch')\n",
    "plt.legend(['train', 'test'], loc='upper right')\n",
    "\n",
    "plt.tight_layout()\n",
    "\n",
    "fig"
   ]
  },
  {
   "cell_type": "code",
   "execution_count": null,
   "metadata": {},
   "outputs": [],
   "source": [
    "\n",
    "history_dict = history.history\n",
    "print(history_dict.keys())"
   ]
  },
  {
   "cell_type": "code",
   "execution_count": null,
   "metadata": {},
   "outputs": [],
   "source": []
  }
 ],
 "metadata": {
  "kernelspec": {
   "display_name": "Python 3",
   "language": "python",
   "name": "python3"
  },
  "language_info": {
   "codemirror_mode": {
    "name": "ipython",
    "version": 3
   },
   "file_extension": ".py",
   "mimetype": "text/x-python",
   "name": "python",
   "nbconvert_exporter": "python",
   "pygments_lexer": "ipython3",
   "version": "3.7.3"
  }
 },
 "nbformat": 4,
 "nbformat_minor": 2
}
